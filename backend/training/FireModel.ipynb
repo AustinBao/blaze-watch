{
 "cells": [
  {
   "cell_type": "code",
   "execution_count": 4,
   "id": "798f13ba",
   "metadata": {},
   "outputs": [
    {
     "name": "stdout",
     "output_type": "stream",
     "text": [
      "   LATITUDE  LONGITUDE  BRIGHTNESS  SCAN  TRACK   ACQ_DATE ACQ_TIME SATELLITE  \\\n",
      "0  48.18716  -64.91908      313.61  0.42   0.38 2025-06-19     0635       N21   \n",
      "1  43.26135  -79.80864      305.07  0.54   0.51 2025-06-19     0637       N21   \n",
      "2  45.83499  -73.25122      305.51  0.45   0.39 2025-06-19     0637       N21   \n",
      "3  45.83852  -73.25037      309.14  0.45   0.39 2025-06-19     0637       N21   \n",
      "4  53.42146  -93.78374      314.61  0.40   0.37 2025-06-19     0816       N21   \n",
      "\n",
      "  INSTRUMENT CONFIDENCE VERSION  BRIGHT_T31   FRP DAYNIGHT  \\\n",
      "0      VIIRS          n  2.0NRT      289.92  1.61        N   \n",
      "1      VIIRS          n  2.0NRT      280.41  1.98        N   \n",
      "2      VIIRS          n  2.0NRT      281.16  1.08        N   \n",
      "3      VIIRS          n  2.0NRT      282.16  2.16        N   \n",
      "4      VIIRS          n  2.0NRT      278.05  1.70        N   \n",
      "\n",
      "                     geometry  \n",
      "0  POINT (-64.91908 48.18716)  \n",
      "1  POINT (-79.80864 43.26135)  \n",
      "2  POINT (-73.25122 45.83499)  \n",
      "3  POINT (-73.25037 45.83852)  \n",
      "4  POINT (-93.78374 53.42146)  \n"
     ]
    }
   ],
   "source": [
    "import geopandas as gpd\n",
    "\n",
    "gdf = gpd.read_file(\"./data/fire_locations06-19to06-26.shp\")\n",
    "\n",
    "print(gdf.head())"
   ]
  }
 ],
 "metadata": {
  "kernelspec": {
   "display_name": ".venv",
   "language": "python",
   "name": "python3"
  },
  "language_info": {
   "codemirror_mode": {
    "name": "ipython",
    "version": 3
   },
   "file_extension": ".py",
   "mimetype": "text/x-python",
   "name": "python",
   "nbconvert_exporter": "python",
   "pygments_lexer": "ipython3",
   "version": "3.13.5"
  }
 },
 "nbformat": 4,
 "nbformat_minor": 5
}
